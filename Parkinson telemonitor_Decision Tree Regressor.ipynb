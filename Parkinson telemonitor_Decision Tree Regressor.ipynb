{
 "cells": [
  {
   "cell_type": "code",
   "execution_count": 1,
   "id": "1d6ed685",
   "metadata": {},
   "outputs": [],
   "source": [
    "import numpy as np\n",
    "import pandas as pd\n",
    "import seaborn as sns\n",
    "import matplotlib.pyplot as plt"
   ]
  },
  {
   "cell_type": "code",
   "execution_count": 4,
   "id": "7aad526e",
   "metadata": {},
   "outputs": [],
   "source": [
    "df= pd.read_csv(\"parkinsons_updrs (1).data\")"
   ]
  },
  {
   "cell_type": "code",
   "execution_count": 5,
   "id": "47404e8d",
   "metadata": {},
   "outputs": [
    {
     "data": {
      "text/html": [
       "<div>\n",
       "<style scoped>\n",
       "    .dataframe tbody tr th:only-of-type {\n",
       "        vertical-align: middle;\n",
       "    }\n",
       "\n",
       "    .dataframe tbody tr th {\n",
       "        vertical-align: top;\n",
       "    }\n",
       "\n",
       "    .dataframe thead th {\n",
       "        text-align: right;\n",
       "    }\n",
       "</style>\n",
       "<table border=\"1\" class=\"dataframe\">\n",
       "  <thead>\n",
       "    <tr style=\"text-align: right;\">\n",
       "      <th></th>\n",
       "      <th>subject#</th>\n",
       "      <th>age</th>\n",
       "      <th>sex</th>\n",
       "      <th>test_time</th>\n",
       "      <th>motor_UPDRS</th>\n",
       "      <th>total_UPDRS</th>\n",
       "      <th>Jitter(%)</th>\n",
       "      <th>Jitter(Abs)</th>\n",
       "      <th>Jitter:RAP</th>\n",
       "      <th>Jitter:PPQ5</th>\n",
       "      <th>...</th>\n",
       "      <th>Shimmer(dB)</th>\n",
       "      <th>Shimmer:APQ3</th>\n",
       "      <th>Shimmer:APQ5</th>\n",
       "      <th>Shimmer:APQ11</th>\n",
       "      <th>Shimmer:DDA</th>\n",
       "      <th>NHR</th>\n",
       "      <th>HNR</th>\n",
       "      <th>RPDE</th>\n",
       "      <th>DFA</th>\n",
       "      <th>PPE</th>\n",
       "    </tr>\n",
       "  </thead>\n",
       "  <tbody>\n",
       "    <tr>\n",
       "      <th>0</th>\n",
       "      <td>1</td>\n",
       "      <td>72</td>\n",
       "      <td>0</td>\n",
       "      <td>5.6431</td>\n",
       "      <td>28.199</td>\n",
       "      <td>34.398</td>\n",
       "      <td>0.00662</td>\n",
       "      <td>0.000034</td>\n",
       "      <td>0.00401</td>\n",
       "      <td>0.00317</td>\n",
       "      <td>...</td>\n",
       "      <td>0.230</td>\n",
       "      <td>0.01438</td>\n",
       "      <td>0.01309</td>\n",
       "      <td>0.01662</td>\n",
       "      <td>0.04314</td>\n",
       "      <td>0.014290</td>\n",
       "      <td>21.640</td>\n",
       "      <td>0.41888</td>\n",
       "      <td>0.54842</td>\n",
       "      <td>0.16006</td>\n",
       "    </tr>\n",
       "    <tr>\n",
       "      <th>1</th>\n",
       "      <td>1</td>\n",
       "      <td>72</td>\n",
       "      <td>0</td>\n",
       "      <td>12.6660</td>\n",
       "      <td>28.447</td>\n",
       "      <td>34.894</td>\n",
       "      <td>0.00300</td>\n",
       "      <td>0.000017</td>\n",
       "      <td>0.00132</td>\n",
       "      <td>0.00150</td>\n",
       "      <td>...</td>\n",
       "      <td>0.179</td>\n",
       "      <td>0.00994</td>\n",
       "      <td>0.01072</td>\n",
       "      <td>0.01689</td>\n",
       "      <td>0.02982</td>\n",
       "      <td>0.011112</td>\n",
       "      <td>27.183</td>\n",
       "      <td>0.43493</td>\n",
       "      <td>0.56477</td>\n",
       "      <td>0.10810</td>\n",
       "    </tr>\n",
       "    <tr>\n",
       "      <th>2</th>\n",
       "      <td>1</td>\n",
       "      <td>72</td>\n",
       "      <td>0</td>\n",
       "      <td>19.6810</td>\n",
       "      <td>28.695</td>\n",
       "      <td>35.389</td>\n",
       "      <td>0.00481</td>\n",
       "      <td>0.000025</td>\n",
       "      <td>0.00205</td>\n",
       "      <td>0.00208</td>\n",
       "      <td>...</td>\n",
       "      <td>0.181</td>\n",
       "      <td>0.00734</td>\n",
       "      <td>0.00844</td>\n",
       "      <td>0.01458</td>\n",
       "      <td>0.02202</td>\n",
       "      <td>0.020220</td>\n",
       "      <td>23.047</td>\n",
       "      <td>0.46222</td>\n",
       "      <td>0.54405</td>\n",
       "      <td>0.21014</td>\n",
       "    </tr>\n",
       "    <tr>\n",
       "      <th>3</th>\n",
       "      <td>1</td>\n",
       "      <td>72</td>\n",
       "      <td>0</td>\n",
       "      <td>25.6470</td>\n",
       "      <td>28.905</td>\n",
       "      <td>35.810</td>\n",
       "      <td>0.00528</td>\n",
       "      <td>0.000027</td>\n",
       "      <td>0.00191</td>\n",
       "      <td>0.00264</td>\n",
       "      <td>...</td>\n",
       "      <td>0.327</td>\n",
       "      <td>0.01106</td>\n",
       "      <td>0.01265</td>\n",
       "      <td>0.01963</td>\n",
       "      <td>0.03317</td>\n",
       "      <td>0.027837</td>\n",
       "      <td>24.445</td>\n",
       "      <td>0.48730</td>\n",
       "      <td>0.57794</td>\n",
       "      <td>0.33277</td>\n",
       "    </tr>\n",
       "    <tr>\n",
       "      <th>4</th>\n",
       "      <td>1</td>\n",
       "      <td>72</td>\n",
       "      <td>0</td>\n",
       "      <td>33.6420</td>\n",
       "      <td>29.187</td>\n",
       "      <td>36.375</td>\n",
       "      <td>0.00335</td>\n",
       "      <td>0.000020</td>\n",
       "      <td>0.00093</td>\n",
       "      <td>0.00130</td>\n",
       "      <td>...</td>\n",
       "      <td>0.176</td>\n",
       "      <td>0.00679</td>\n",
       "      <td>0.00929</td>\n",
       "      <td>0.01819</td>\n",
       "      <td>0.02036</td>\n",
       "      <td>0.011625</td>\n",
       "      <td>26.126</td>\n",
       "      <td>0.47188</td>\n",
       "      <td>0.56122</td>\n",
       "      <td>0.19361</td>\n",
       "    </tr>\n",
       "  </tbody>\n",
       "</table>\n",
       "<p>5 rows × 22 columns</p>\n",
       "</div>"
      ],
      "text/plain": [
       "   subject#  age  sex  test_time  motor_UPDRS  total_UPDRS  Jitter(%)  \\\n",
       "0         1   72    0     5.6431       28.199       34.398    0.00662   \n",
       "1         1   72    0    12.6660       28.447       34.894    0.00300   \n",
       "2         1   72    0    19.6810       28.695       35.389    0.00481   \n",
       "3         1   72    0    25.6470       28.905       35.810    0.00528   \n",
       "4         1   72    0    33.6420       29.187       36.375    0.00335   \n",
       "\n",
       "   Jitter(Abs)  Jitter:RAP  Jitter:PPQ5  ...  Shimmer(dB)  Shimmer:APQ3  \\\n",
       "0     0.000034     0.00401      0.00317  ...        0.230       0.01438   \n",
       "1     0.000017     0.00132      0.00150  ...        0.179       0.00994   \n",
       "2     0.000025     0.00205      0.00208  ...        0.181       0.00734   \n",
       "3     0.000027     0.00191      0.00264  ...        0.327       0.01106   \n",
       "4     0.000020     0.00093      0.00130  ...        0.176       0.00679   \n",
       "\n",
       "   Shimmer:APQ5  Shimmer:APQ11  Shimmer:DDA       NHR     HNR     RPDE  \\\n",
       "0       0.01309        0.01662      0.04314  0.014290  21.640  0.41888   \n",
       "1       0.01072        0.01689      0.02982  0.011112  27.183  0.43493   \n",
       "2       0.00844        0.01458      0.02202  0.020220  23.047  0.46222   \n",
       "3       0.01265        0.01963      0.03317  0.027837  24.445  0.48730   \n",
       "4       0.00929        0.01819      0.02036  0.011625  26.126  0.47188   \n",
       "\n",
       "       DFA      PPE  \n",
       "0  0.54842  0.16006  \n",
       "1  0.56477  0.10810  \n",
       "2  0.54405  0.21014  \n",
       "3  0.57794  0.33277  \n",
       "4  0.56122  0.19361  \n",
       "\n",
       "[5 rows x 22 columns]"
      ]
     },
     "execution_count": 5,
     "metadata": {},
     "output_type": "execute_result"
    }
   ],
   "source": [
    "df.head()"
   ]
  },
  {
   "cell_type": "code",
   "execution_count": 6,
   "id": "940bbcbe",
   "metadata": {},
   "outputs": [
    {
     "name": "stdout",
     "output_type": "stream",
     "text": [
      "<class 'pandas.core.frame.DataFrame'>\n",
      "RangeIndex: 5875 entries, 0 to 5874\n",
      "Data columns (total 22 columns):\n",
      " #   Column         Non-Null Count  Dtype  \n",
      "---  ------         --------------  -----  \n",
      " 0   subject#       5875 non-null   int64  \n",
      " 1   age            5875 non-null   int64  \n",
      " 2   sex            5875 non-null   int64  \n",
      " 3   test_time      5875 non-null   float64\n",
      " 4   motor_UPDRS    5875 non-null   float64\n",
      " 5   total_UPDRS    5875 non-null   float64\n",
      " 6   Jitter(%)      5875 non-null   float64\n",
      " 7   Jitter(Abs)    5875 non-null   float64\n",
      " 8   Jitter:RAP     5875 non-null   float64\n",
      " 9   Jitter:PPQ5    5875 non-null   float64\n",
      " 10  Jitter:DDP     5875 non-null   float64\n",
      " 11  Shimmer        5875 non-null   float64\n",
      " 12  Shimmer(dB)    5875 non-null   float64\n",
      " 13  Shimmer:APQ3   5875 non-null   float64\n",
      " 14  Shimmer:APQ5   5875 non-null   float64\n",
      " 15  Shimmer:APQ11  5875 non-null   float64\n",
      " 16  Shimmer:DDA    5875 non-null   float64\n",
      " 17  NHR            5875 non-null   float64\n",
      " 18  HNR            5875 non-null   float64\n",
      " 19  RPDE           5875 non-null   float64\n",
      " 20  DFA            5875 non-null   float64\n",
      " 21  PPE            5875 non-null   float64\n",
      "dtypes: float64(19), int64(3)\n",
      "memory usage: 1009.9 KB\n"
     ]
    }
   ],
   "source": [
    "df.info()"
   ]
  },
  {
   "cell_type": "code",
   "execution_count": 7,
   "id": "d012f774",
   "metadata": {},
   "outputs": [
    {
     "data": {
      "text/plain": [
       "subject#         0\n",
       "age              0\n",
       "sex              0\n",
       "test_time        0\n",
       "motor_UPDRS      0\n",
       "total_UPDRS      0\n",
       "Jitter(%)        0\n",
       "Jitter(Abs)      0\n",
       "Jitter:RAP       0\n",
       "Jitter:PPQ5      0\n",
       "Jitter:DDP       0\n",
       "Shimmer          0\n",
       "Shimmer(dB)      0\n",
       "Shimmer:APQ3     0\n",
       "Shimmer:APQ5     0\n",
       "Shimmer:APQ11    0\n",
       "Shimmer:DDA      0\n",
       "NHR              0\n",
       "HNR              0\n",
       "RPDE             0\n",
       "DFA              0\n",
       "PPE              0\n",
       "dtype: int64"
      ]
     },
     "execution_count": 7,
     "metadata": {},
     "output_type": "execute_result"
    }
   ],
   "source": [
    "df.isnull().sum()"
   ]
  },
  {
   "cell_type": "code",
   "execution_count": 20,
   "id": "3c049e96",
   "metadata": {},
   "outputs": [
    {
     "data": {
      "text/plain": [
       "(5875, 22)"
      ]
     },
     "execution_count": 20,
     "metadata": {},
     "output_type": "execute_result"
    }
   ],
   "source": [
    "df.shape"
   ]
  },
  {
   "cell_type": "code",
   "execution_count": 9,
   "id": "9b3b58f7",
   "metadata": {},
   "outputs": [
    {
     "data": {
      "text/plain": [
       "0"
      ]
     },
     "execution_count": 9,
     "metadata": {},
     "output_type": "execute_result"
    }
   ],
   "source": [
    "df.duplicated().sum()"
   ]
  },
  {
   "cell_type": "code",
   "execution_count": 10,
   "id": "699ea2a1",
   "metadata": {},
   "outputs": [
    {
     "name": "stdout",
     "output_type": "stream",
     "text": [
      "      subject#  age  sex  test_time  motor_UPDRS  Jitter(%)  Jitter(Abs)  \\\n",
      "0            1   72    0     5.6431       28.199    0.00662     0.000034   \n",
      "1            1   72    0    12.6660       28.447    0.00300     0.000017   \n",
      "2            1   72    0    19.6810       28.695    0.00481     0.000025   \n",
      "3            1   72    0    25.6470       28.905    0.00528     0.000027   \n",
      "4            1   72    0    33.6420       29.187    0.00335     0.000020   \n",
      "...        ...  ...  ...        ...          ...        ...          ...   \n",
      "5870        42   61    0   142.7900       22.485    0.00406     0.000031   \n",
      "5871        42   61    0   149.8400       21.988    0.00297     0.000025   \n",
      "5872        42   61    0   156.8200       21.495    0.00349     0.000025   \n",
      "5873        42   61    0   163.7300       21.007    0.00281     0.000020   \n",
      "5874        42   61    0   170.7300       20.513    0.00282     0.000021   \n",
      "\n",
      "      Jitter:RAP  Jitter:PPQ5  Jitter:DDP  ...  Shimmer(dB)  Shimmer:APQ3  \\\n",
      "0        0.00401      0.00317     0.01204  ...        0.230       0.01438   \n",
      "1        0.00132      0.00150     0.00395  ...        0.179       0.00994   \n",
      "2        0.00205      0.00208     0.00616  ...        0.181       0.00734   \n",
      "3        0.00191      0.00264     0.00573  ...        0.327       0.01106   \n",
      "4        0.00093      0.00130     0.00278  ...        0.176       0.00679   \n",
      "...          ...          ...         ...  ...          ...           ...   \n",
      "5870     0.00167      0.00168     0.00500  ...        0.160       0.00973   \n",
      "5871     0.00119      0.00147     0.00358  ...        0.215       0.01052   \n",
      "5872     0.00152      0.00187     0.00456  ...        0.244       0.01371   \n",
      "5873     0.00128      0.00151     0.00383  ...        0.131       0.00693   \n",
      "5874     0.00135      0.00166     0.00406  ...        0.171       0.00946   \n",
      "\n",
      "      Shimmer:APQ5  Shimmer:APQ11  Shimmer:DDA       NHR     HNR     RPDE  \\\n",
      "0          0.01309        0.01662      0.04314  0.014290  21.640  0.41888   \n",
      "1          0.01072        0.01689      0.02982  0.011112  27.183  0.43493   \n",
      "2          0.00844        0.01458      0.02202  0.020220  23.047  0.46222   \n",
      "3          0.01265        0.01963      0.03317  0.027837  24.445  0.48730   \n",
      "4          0.00929        0.01819      0.02036  0.011625  26.126  0.47188   \n",
      "...            ...            ...          ...       ...     ...      ...   \n",
      "5870       0.01133        0.01549      0.02920  0.025137  22.369  0.64215   \n",
      "5871       0.01277        0.01904      0.03157  0.011927  22.886  0.52598   \n",
      "5872       0.01456        0.01877      0.04112  0.017701  25.065  0.47792   \n",
      "5873       0.00870        0.01307      0.02078  0.007984  24.422  0.56865   \n",
      "5874       0.01154        0.01470      0.02839  0.008172  23.259  0.58608   \n",
      "\n",
      "          DFA      PPE  \n",
      "0     0.54842  0.16006  \n",
      "1     0.56477  0.10810  \n",
      "2     0.54405  0.21014  \n",
      "3     0.57794  0.33277  \n",
      "4     0.56122  0.19361  \n",
      "...       ...      ...  \n",
      "5870  0.55314  0.21367  \n",
      "5871  0.56518  0.12621  \n",
      "5872  0.57888  0.14157  \n",
      "5873  0.56327  0.14204  \n",
      "5874  0.57077  0.15336  \n",
      "\n",
      "[5875 rows x 21 columns]\n",
      "0       34.398\n",
      "1       34.894\n",
      "2       35.389\n",
      "3       35.810\n",
      "4       36.375\n",
      "         ...  \n",
      "5870    33.485\n",
      "5871    32.988\n",
      "5872    32.495\n",
      "5873    32.007\n",
      "5874    31.513\n",
      "Name: total_UPDRS, Length: 5875, dtype: float64\n"
     ]
    }
   ],
   "source": [
    "x = df.drop([\"total_UPDRS\"],axis=1)\n",
    "print(x)\n",
    "y=df[\"total_UPDRS\"]\n",
    "print(y)"
   ]
  },
  {
   "cell_type": "code",
   "execution_count": 11,
   "id": "e14385c7",
   "metadata": {},
   "outputs": [],
   "source": [
    "from sklearn.model_selection import train_test_split"
   ]
  },
  {
   "cell_type": "code",
   "execution_count": 12,
   "id": "2b8ef75b",
   "metadata": {},
   "outputs": [],
   "source": [
    "from sklearn.preprocessing import StandardScaler\n",
    "scaler =StandardScaler()"
   ]
  },
  {
   "cell_type": "code",
   "execution_count": 13,
   "id": "23442b91",
   "metadata": {},
   "outputs": [],
   "source": [
    "x_scaled=scaler.fit_transform(x)"
   ]
  },
  {
   "cell_type": "code",
   "execution_count": 14,
   "id": "c2b1abf7",
   "metadata": {},
   "outputs": [],
   "source": [
    "x_train, x_test, y_train, y_test = train_test_split(x_scaled,y,test_size=0.30,random_state=101)"
   ]
  },
  {
   "cell_type": "code",
   "execution_count": 15,
   "id": "4ed4a594",
   "metadata": {},
   "outputs": [],
   "source": [
    "## prepruning\n",
    "from sklearn import tree\n",
    "clf = tree.DecisionTreeRegressor()"
   ]
  },
  {
   "cell_type": "code",
   "execution_count": 16,
   "id": "9712eb82",
   "metadata": {},
   "outputs": [
    {
     "data": {
      "text/plain": [
       "DecisionTreeRegressor()"
      ]
     },
     "execution_count": 16,
     "metadata": {},
     "output_type": "execute_result"
    }
   ],
   "source": [
    "clf.fit(x_train,y_train)"
   ]
  },
  {
   "cell_type": "code",
   "execution_count": 17,
   "id": "0165d43e",
   "metadata": {},
   "outputs": [],
   "source": [
    "y_pred=clf.predict(x_test)"
   ]
  },
  {
   "cell_type": "code",
   "execution_count": 26,
   "id": "1e2046a2",
   "metadata": {},
   "outputs": [],
   "source": [
    "from sklearn.metrics import mean_absolute_error, mean_squared_error,r2_score"
   ]
  },
  {
   "cell_type": "code",
   "execution_count": 22,
   "id": "11ba1c4d",
   "metadata": {},
   "outputs": [
    {
     "data": {
      "text/plain": [
       "0.13920465116279085"
      ]
     },
     "execution_count": 22,
     "metadata": {},
     "output_type": "execute_result"
    }
   ],
   "source": [
    "mean_absolute_error(y_test,y_pred)"
   ]
  },
  {
   "cell_type": "code",
   "execution_count": 23,
   "id": "16ed70a4",
   "metadata": {},
   "outputs": [
    {
     "data": {
      "text/plain": [
       "0.41270952036301767"
      ]
     },
     "execution_count": 23,
     "metadata": {},
     "output_type": "execute_result"
    }
   ],
   "source": [
    "mean_squared_error(y_test,y_pred)"
   ]
  },
  {
   "cell_type": "code",
   "execution_count": 24,
   "id": "d79d2caf",
   "metadata": {},
   "outputs": [
    {
     "data": {
      "text/plain": [
       "28.972277084515035"
      ]
     },
     "execution_count": 24,
     "metadata": {},
     "output_type": "execute_result"
    }
   ],
   "source": [
    "y_test.mean()"
   ]
  },
  {
   "cell_type": "code",
   "execution_count": 27,
   "id": "fddaaa58",
   "metadata": {},
   "outputs": [
    {
     "data": {
      "text/plain": [
       "0.9965152817627555"
      ]
     },
     "execution_count": 27,
     "metadata": {},
     "output_type": "execute_result"
    }
   ],
   "source": [
    "r2_score(y_test,y_pred)"
   ]
  },
  {
   "cell_type": "code",
   "execution_count": null,
   "id": "9fe37816",
   "metadata": {},
   "outputs": [],
   "source": []
  }
 ],
 "metadata": {
  "kernelspec": {
   "display_name": "Python 3 (ipykernel)",
   "language": "python",
   "name": "python3"
  },
  "language_info": {
   "codemirror_mode": {
    "name": "ipython",
    "version": 3
   },
   "file_extension": ".py",
   "mimetype": "text/x-python",
   "name": "python",
   "nbconvert_exporter": "python",
   "pygments_lexer": "ipython3",
   "version": "3.9.12"
  }
 },
 "nbformat": 4,
 "nbformat_minor": 5
}
